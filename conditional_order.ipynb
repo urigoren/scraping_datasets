{
 "cells": [
  {
   "cell_type": "code",
   "execution_count": 39,
   "metadata": {},
   "outputs": [],
   "source": [
    "import json\n",
    "import numpy as np\n",
    "import pandas as pd\n",
    "from tqdm import tqdm_notebook as tqdm\n",
    "from bs4 import BeautforifulSoup\n",
    "from urllib.request import urlopen"
   ]
  },
  {
   "cell_type": "code",
   "execution_count": 34,
   "metadata": {},
   "outputs": [],
   "source": [
    "def get_cases():\n",
    "    base = \"https://www.justice.gov.il\"\n",
    "    prev_links = None\n",
    "    links = []\n",
    "    n=1\n",
    "    ret = set()\n",
    "    while prev_links != links:\n",
    "        url = f\"{base}/Units/StateAttorney/Criminal/Pages/Conditional-Order.aspx?WPID=WPQ8&PN={n}\"\n",
    "        soup = BeautifulSoup(urlopen(url).read().decode(\"utf8\"), 'html.parser')\n",
    "        prev_links = links\n",
    "        links = [base + str(link.get(\"href\")) for link in soup.findAll(\"a\") if link.get_text()==\"להרחבה\"]\n",
    "        ret=ret | set(links)\n",
    "        n+=1\n",
    "    return list(ret)\n",
    "\n",
    "def get_case_details(url):\n",
    "    soup = BeautifulSoup(urlopen(url).read().decode(\"utf8\"), 'html.parser')\n",
    "    table_body = soup.find(\"div\", attrs={\"class\": \"gridDivs\"})\n",
    "    rows = [(tr.find(\"div\", attrs={\"class\": \"TitleDiv\"}).get_text(), tr.find(\"div\", attrs={\"class\": \"GridOrangContent\"}).get_text(),)\n",
    "            for tr in table_body.find_all('div', attrs={\"class\": \"DataItemGrid\"})]\n",
    "    ret = {k.strip(\": \\r\\n\\t\"): v.strip(\": \\r\\n\\t\") for k,v in rows}\n",
    "    return ret"
   ]
  },
  {
   "cell_type": "code",
   "execution_count": null,
   "metadata": {},
   "outputs": [],
   "source": [
    "case_links = get_cases()\n",
    "print (len(case_links))"
   ]
  },
  {
   "cell_type": "code",
   "execution_count": 40,
   "metadata": {},
   "outputs": [
    {
     "data": {
      "application/vnd.jupyter.widget-view+json": {
       "model_id": "bb36d44d037f4cd5bb0287317519c351",
       "version_major": 2,
       "version_minor": 0
      },
      "text/plain": [
       "HBox(children=(IntProgress(value=0, max=508), HTML(value='')))"
      ]
     },
     "metadata": {},
     "output_type": "display_data"
    },
    {
     "name": "stdout",
     "output_type": "stream",
     "text": [
      "Error with https://www.justice.gov.ilמספר\n",
      "\n"
     ]
    }
   ],
   "source": [
    "error_count = 0\n",
    "with open(\"conditional_order.json\",'w') as f:\n",
    "    f.write(\"[\\n\")\n",
    "    first = True\n",
    "    for url in tqdm(case_links):\n",
    "        if not first:\n",
    "            f.write(\"\\n,\\n\")\n",
    "        try:\n",
    "            json.dump(get_case_details(url),f, indent=4)\n",
    "            first = False\n",
    "        except:\n",
    "            print (\"Error with \"+url)\n",
    "            error_count +=1\n",
    "            first = True\n",
    "    f.write(\"\\n]\")\n",
    "print (f\"number of errors: {error_count}\")"
   ]
  },
  {
   "cell_type": "code",
   "execution_count": 48,
   "metadata": {},
   "outputs": [
    {
     "data": {
      "text/html": [
       "<div>\n",
       "<style scoped>\n",
       "    .dataframe tbody tr th:only-of-type {\n",
       "        vertical-align: middle;\n",
       "    }\n",
       "\n",
       "    .dataframe tbody tr th {\n",
       "        vertical-align: top;\n",
       "    }\n",
       "\n",
       "    .dataframe thead th {\n",
       "        text-align: right;\n",
       "    }\n",
       "</style>\n",
       "<table border=\"1\" class=\"dataframe\">\n",
       "  <thead>\n",
       "    <tr style=\"text-align: right;\">\n",
       "      <th></th>\n",
       "      <th>הוראות החיקוק שפורטו בהסדר</th>\n",
       "      <th>יחידה</th>\n",
       "      <th>נימוקים משתנים לסגירת התיק בהסדר</th>\n",
       "      <th>תיאור העובדות המהוות עבירה שבהן הודה החשוד</th>\n",
       "      <th>תנאי ההסדר</th>\n",
       "    </tr>\n",
       "    <tr>\n",
       "      <th>מספר תיק</th>\n",
       "      <th></th>\n",
       "      <th></th>\n",
       "      <th></th>\n",
       "      <th></th>\n",
       "      <th></th>\n",
       "    </tr>\n",
       "  </thead>\n",
       "  <tbody>\n",
       "    <tr>\n",
       "      <th>3373/15</th>\n",
       "      <td>החזקת טובין שסומנו או יובאו לישראל שלא כדין – ...</td>\n",
       "      <td>פרקליטות מחוז דרום (פלילי)</td>\n",
       "      <td>החשוד הודה בעובדות המהוות עבירה, לחשוד אין עבר...</td>\n",
       "      <td>בתאריך 30.1.15, החזיק החשוד, לשם מסחר, בדוכן ב...</td>\n",
       "      <td>קנס בסך 2900 ₪ והשמדת פריטים שנתפסו.</td>\n",
       "    </tr>\n",
       "    <tr>\n",
       "      <th>7937/15</th>\n",
       "      <td>א. גניבה - עבירה לפי סעיף 384 לחוק העונשין התש...</td>\n",
       "      <td>פרקליטות מחוז תל-אביב (פלילי)</td>\n",
       "      <td>היקף המרמה אינו מאוד גבוה, שכן מדובר על צ'ק אח...</td>\n",
       "      <td>ביום 09/06/15 או סמוך לאחריו, מצא החשוד 12 המח...</td>\n",
       "      <td>א. תשלום לאוצר המדינה בסך 2,000 ₪.ב. פיצוי למת...</td>\n",
       "    </tr>\n",
       "    <tr>\n",
       "      <th>4625/15</th>\n",
       "      <td>השארת ילד בלא השגחה ברשלנות – עבירה לפי סעיף 3...</td>\n",
       "      <td>פרקליטות מחוז חיפה (פלילי)</td>\n",
       "      <td>החשודות הודו בעובדות המהוות עבירהלחשודות אין ע...</td>\n",
       "      <td>החשודות הינן סייעת וגננת בגן בצפון הארץ. ביום ...</td>\n",
       "      <td>פיצוי כספי להורי הילד בסך 1,000 ₪תשלום לאוצר ה...</td>\n",
       "    </tr>\n",
       "    <tr>\n",
       "      <th>3613/16</th>\n",
       "      <td>ניסיון למעשה מגונה  – עבירה לפי סעיף 25 + 348 ...</td>\n",
       "      <td>פרקליטות מחוז צפון (פלילי)</td>\n",
       "      <td>א. החשוד הודה בעובדות המהוות עבירה.\\r\\nב. לחשו...</td>\n",
       "      <td>1. במועדים הרלבנטיים לתלונת המתלוננת, עבד החשו...</td>\n",
       "      <td>-פיצוי ע\"ס 2,500 ₪ למתלוננת.\\r\\n-העברת מכתב הת...</td>\n",
       "    </tr>\n",
       "    <tr>\n",
       "      <th>9213/13</th>\n",
       "      <td>מעשי פזיזית ורשלנות (אי נקיטת צעדי זהירות בחיה...</td>\n",
       "      <td>פרקליטות מחוז תל-אביב (פלילי)</td>\n",
       "      <td>הנאשמת הודתה בעובדות המהוות עברה ולקחה אחריות ...</td>\n",
       "      <td>הנאשמת הינה בעלת כלב מסוג \"רועה בלגי\". בשלהי ח...</td>\n",
       "      <td>1. תשלום לאוצר המדינה בסך 800 ש\"ח אשר שולם עד ...</td>\n",
       "    </tr>\n",
       "  </tbody>\n",
       "</table>\n",
       "</div>"
      ],
      "text/plain": [
       "                                 הוראות החיקוק שפורטו בהסדר  \\\n",
       "מספר תיק                                                      \n",
       "3373/15   החזקת טובין שסומנו או יובאו לישראל שלא כדין – ...   \n",
       "7937/15   א. גניבה - עבירה לפי סעיף 384 לחוק העונשין התש...   \n",
       "4625/15   השארת ילד בלא השגחה ברשלנות – עבירה לפי סעיף 3...   \n",
       "3613/16   ניסיון למעשה מגונה  – עבירה לפי סעיף 25 + 348 ...   \n",
       "9213/13   מעשי פזיזית ורשלנות (אי נקיטת צעדי זהירות בחיה...   \n",
       "\n",
       "                                  יחידה  \\\n",
       "מספר תיק                                  \n",
       "3373/15      פרקליטות מחוז דרום (פלילי)   \n",
       "7937/15   פרקליטות מחוז תל-אביב (פלילי)   \n",
       "4625/15      פרקליטות מחוז חיפה (פלילי)   \n",
       "3613/16      פרקליטות מחוז צפון (פלילי)   \n",
       "9213/13   פרקליטות מחוז תל-אביב (פלילי)   \n",
       "\n",
       "                           נימוקים משתנים לסגירת התיק בהסדר  \\\n",
       "מספר תיק                                                      \n",
       "3373/15   החשוד הודה בעובדות המהוות עבירה, לחשוד אין עבר...   \n",
       "7937/15   היקף המרמה אינו מאוד גבוה, שכן מדובר על צ'ק אח...   \n",
       "4625/15   החשודות הודו בעובדות המהוות עבירהלחשודות אין ע...   \n",
       "3613/16   א. החשוד הודה בעובדות המהוות עבירה.\\r\\nב. לחשו...   \n",
       "9213/13   הנאשמת הודתה בעובדות המהוות עברה ולקחה אחריות ...   \n",
       "\n",
       "                 תיאור העובדות המהוות עבירה שבהן הודה החשוד  \\\n",
       "מספר תיק                                                      \n",
       "3373/15   בתאריך 30.1.15, החזיק החשוד, לשם מסחר, בדוכן ב...   \n",
       "7937/15   ביום 09/06/15 או סמוך לאחריו, מצא החשוד 12 המח...   \n",
       "4625/15   החשודות הינן סייעת וגננת בגן בצפון הארץ. ביום ...   \n",
       "3613/16   1. במועדים הרלבנטיים לתלונת המתלוננת, עבד החשו...   \n",
       "9213/13   הנאשמת הינה בעלת כלב מסוג \"רועה בלגי\". בשלהי ח...   \n",
       "\n",
       "                                                 תנאי ההסדר  \n",
       "מספר תיק                                                     \n",
       "3373/15                קנס בסך 2900 ₪ והשמדת פריטים שנתפסו.  \n",
       "7937/15   א. תשלום לאוצר המדינה בסך 2,000 ₪.ב. פיצוי למת...  \n",
       "4625/15   פיצוי כספי להורי הילד בסך 1,000 ₪תשלום לאוצר ה...  \n",
       "3613/16   -פיצוי ע\"ס 2,500 ₪ למתלוננת.\\r\\n-העברת מכתב הת...  \n",
       "9213/13   1. תשלום לאוצר המדינה בסך 800 ש\"ח אשר שולם עד ...  "
      ]
     },
     "execution_count": 48,
     "metadata": {},
     "output_type": "execute_result"
    }
   ],
   "source": [
    "with open(\"conditional_order.json\", 'r') as f:\n",
    "    conditional_order = json.load(f)\n",
    "df = pd.DataFrame(conditional_order).set_index(\"מספר תיק\")\n",
    "df.head()"
   ]
  },
  {
   "cell_type": "code",
   "execution_count": 49,
   "metadata": {},
   "outputs": [],
   "source": [
    "df.to_csv(\"conditional_order.csv\")"
   ]
  },
  {
   "cell_type": "code",
   "execution_count": null,
   "metadata": {},
   "outputs": [],
   "source": []
  }
 ],
 "metadata": {
  "kernelspec": {
   "display_name": "Python 3",
   "language": "python",
   "name": "python3"
  },
  "language_info": {
   "codemirror_mode": {
    "name": "ipython",
    "version": 3
   },
   "file_extension": ".py",
   "mimetype": "text/x-python",
   "name": "python",
   "nbconvert_exporter": "python",
   "pygments_lexer": "ipython3",
   "version": "3.7.4"
  }
 },
 "nbformat": 4,
 "nbformat_minor": 2
}
